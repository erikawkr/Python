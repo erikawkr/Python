{
  "nbformat": 4,
  "nbformat_minor": 0,
  "metadata": {
    "colab": {
      "provenance": [],
      "authorship_tag": "ABX9TyPTFYarn63gQ8Ks4U7up7nJ",
      "include_colab_link": true
    },
    "kernelspec": {
      "name": "python3",
      "display_name": "Python 3"
    },
    "language_info": {
      "name": "python"
    }
  },
  "cells": [
    {
      "cell_type": "markdown",
      "metadata": {
        "id": "view-in-github",
        "colab_type": "text"
      },
      "source": [
        "<a href=\"https://colab.research.google.com/github/erikawkr/Python/blob/main/Komputasi_Matematika_dengan_Pustaka_Numpy.ipynb\" target=\"_parent\"><img src=\"https://colab.research.google.com/assets/colab-badge.svg\" alt=\"Open In Colab\"/></a>"
      ]
    },
    {
      "cell_type": "code",
      "execution_count": null,
      "metadata": {
        "id": "L-KwrMtBBbxD",
        "colab": {
          "base_uri": "https://localhost:8080/",
          "height": 35
        },
        "outputId": "8972f901-bdcc-47bf-dbd9-2d5b46991aeb"
      },
      "outputs": [
        {
          "output_type": "execute_result",
          "data": {
            "text/plain": [
              "'1.22.4'"
            ],
            "application/vnd.google.colaboratory.intrinsic+json": {
              "type": "string"
            }
          },
          "metadata": {},
          "execution_count": 1
        }
      ],
      "source": [
        "import numpy as np\n",
        "np.__version__"
      ]
    },
    {
      "cell_type": "markdown",
      "source": [
        "## Python List"
      ],
      "metadata": {
        "id": "Szsqa5KfNAZo"
      }
    },
    {
      "cell_type": "code",
      "source": [
        "gpas_as_list = [4.0, 3.2, 3.5]"
      ],
      "metadata": {
        "id": "fHW76VBtNQYP"
      },
      "execution_count": null,
      "outputs": []
    },
    {
      "cell_type": "code",
      "source": [
        "gpas_as_list.append(4.0)\n",
        "gpas_as_list"
      ],
      "metadata": {
        "colab": {
          "base_uri": "https://localhost:8080/"
        },
        "id": "oAgQvjaGN2nl",
        "outputId": "3b9ed4ef-6ea2-487e-97d9-0cb0da914733"
      },
      "execution_count": null,
      "outputs": [
        {
          "output_type": "execute_result",
          "data": {
            "text/plain": [
              "[4.0, 3.2, 3.5, 4.0]"
            ]
          },
          "metadata": {},
          "execution_count": 3
        }
      ]
    },
    {
      "cell_type": "code",
      "source": [
        "gpas_as_list.insert(1, \"belum ada\")\n",
        "gpas_as_list"
      ],
      "metadata": {
        "colab": {
          "base_uri": "https://localhost:8080/"
        },
        "id": "-E5Rz-UxOV95",
        "outputId": "18b404aa-b61d-49b3-a911-d37745d388a7"
      },
      "execution_count": null,
      "outputs": [
        {
          "output_type": "execute_result",
          "data": {
            "text/plain": [
              "[4.0, 'belum ada', 3.2, 3.5, 4.0]"
            ]
          },
          "metadata": {},
          "execution_count": 4
        }
      ]
    },
    {
      "cell_type": "code",
      "source": [
        "gpas_as_list.pop(1)\n",
        "gpas_as_list"
      ],
      "metadata": {
        "colab": {
          "base_uri": "https://localhost:8080/"
        },
        "id": "6h0N3U36O5Mb",
        "outputId": "039fb680-317e-4750-8d94-4ee13aedde15"
      },
      "execution_count": null,
      "outputs": [
        {
          "output_type": "execute_result",
          "data": {
            "text/plain": [
              "[4.0, 3.5, 4.0]"
            ]
          },
          "metadata": {},
          "execution_count": 6
        }
      ]
    },
    {
      "cell_type": "markdown",
      "source": [
        "##Numpy Array"
      ],
      "metadata": {
        "id": "GAFo3c0tPRA9"
      }
    },
    {
      "cell_type": "code",
      "source": [
        "gpas = np.array(gpas_as_list)"
      ],
      "metadata": {
        "id": "Zgk2upS-PTs1"
      },
      "execution_count": null,
      "outputs": []
    },
    {
      "cell_type": "code",
      "source": [
        "gpas.dtype"
      ],
      "metadata": {
        "colab": {
          "base_uri": "https://localhost:8080/"
        },
        "id": "eiVkHjcZPkoZ",
        "outputId": "263b0220-5cb2-4400-8e28-56feb9e570ec"
      },
      "execution_count": null,
      "outputs": [
        {
          "output_type": "execute_result",
          "data": {
            "text/plain": [
              "dtype('float64')"
            ]
          },
          "metadata": {},
          "execution_count": 8
        }
      ]
    },
    {
      "cell_type": "code",
      "source": [
        "gpas.size"
      ],
      "metadata": {
        "colab": {
          "base_uri": "https://localhost:8080/"
        },
        "id": "p04XumU5PvQf",
        "outputId": "78579f61-6c71-4f5a-c3b2-7464c8486c4a"
      },
      "execution_count": null,
      "outputs": [
        {
          "output_type": "execute_result",
          "data": {
            "text/plain": [
              "3"
            ]
          },
          "metadata": {},
          "execution_count": 9
        }
      ]
    },
    {
      "cell_type": "markdown",
      "source": [
        "Study Log"
      ],
      "metadata": {
        "id": "dHYKPmxgQRva"
      }
    },
    {
      "cell_type": "code",
      "source": [
        "study_minutes = np.zeros(100, np.uint16)\n",
        "study_minutes"
      ],
      "metadata": {
        "colab": {
          "base_uri": "https://localhost:8080/"
        },
        "id": "AtZig_z6QUYV",
        "outputId": "9d591f7a-6a1a-4f0c-f63f-42f1bcc38159"
      },
      "execution_count": null,
      "outputs": [
        {
          "output_type": "execute_result",
          "data": {
            "text/plain": [
              "array([0, 0, 0, 0, 0, 0, 0, 0, 0, 0, 0, 0, 0, 0, 0, 0, 0, 0, 0, 0, 0, 0,\n",
              "       0, 0, 0, 0, 0, 0, 0, 0, 0, 0, 0, 0, 0, 0, 0, 0, 0, 0, 0, 0, 0, 0,\n",
              "       0, 0, 0, 0, 0, 0, 0, 0, 0, 0, 0, 0, 0, 0, 0, 0, 0, 0, 0, 0, 0, 0,\n",
              "       0, 0, 0, 0, 0, 0, 0, 0, 0, 0, 0, 0, 0, 0, 0, 0, 0, 0, 0, 0, 0, 0,\n",
              "       0, 0, 0, 0, 0, 0, 0, 0, 0, 0, 0, 0], dtype=uint16)"
            ]
          },
          "metadata": {},
          "execution_count": 12
        }
      ]
    },
    {
      "cell_type": "code",
      "source": [
        "%whos"
      ],
      "metadata": {
        "colab": {
          "base_uri": "https://localhost:8080/"
        },
        "id": "YZkBMkePQs-C",
        "outputId": "82a2992b-3ecb-46d1-f0ec-a6e1439af208"
      },
      "execution_count": null,
      "outputs": [
        {
          "output_type": "stream",
          "name": "stdout",
          "text": [
            "Variable        Type       Data/Info\n",
            "------------------------------------\n",
            "gpas            ndarray    3: 3 elems, type `float64`, 24 bytes\n",
            "gpas_as_list    list       n=3\n",
            "np              module     <module 'numpy' from '/us<...>kages/numpy/__init__.py'>\n",
            "study_minutes   ndarray    100: 100 elems, type `uint16`, 200 bytes\n"
          ]
        }
      ]
    },
    {
      "cell_type": "markdown",
      "source": [
        "Array Multidimensi"
      ],
      "metadata": {
        "id": "cfEDXwWuSbH9"
      }
    },
    {
      "cell_type": "code",
      "source": [
        "students_gpas = np.array([\n",
        "    [4.0, 3.3, 3.5, 4.0],\n",
        "    [3.96, 3.92, 4.0, 4.0],\n",
        "    [3.2, 3.8, 4.0, 4.0]\n",
        "], np.float16)\n",
        "students_gpas"
      ],
      "metadata": {
        "colab": {
          "base_uri": "https://localhost:8080/"
        },
        "id": "IQzCfhPpSrJ3",
        "outputId": "38488db2-186f-4aca-ddf3-4522046d8bd7"
      },
      "execution_count": null,
      "outputs": [
        {
          "output_type": "execute_result",
          "data": {
            "text/plain": [
              "array([[4.  , 3.3 , 3.5 , 4.  ],\n",
              "       [3.96, 3.92, 4.  , 4.  ],\n",
              "       [3.2 , 3.8 , 4.  , 4.  ]], dtype=float16)"
            ]
          },
          "metadata": {},
          "execution_count": 15
        }
      ]
    },
    {
      "cell_type": "code",
      "source": [
        "students_gpas.ndim"
      ],
      "metadata": {
        "colab": {
          "base_uri": "https://localhost:8080/"
        },
        "id": "zFvyt-RWTZCg",
        "outputId": "d8ec1533-18e9-4976-8121-c72b3c3a8b56"
      },
      "execution_count": null,
      "outputs": [
        {
          "output_type": "execute_result",
          "data": {
            "text/plain": [
              "2"
            ]
          },
          "metadata": {},
          "execution_count": 16
        }
      ]
    },
    {
      "cell_type": "code",
      "source": [
        "students_gpas.shape"
      ],
      "metadata": {
        "colab": {
          "base_uri": "https://localhost:8080/"
        },
        "id": "V8G3uhnGThwm",
        "outputId": "94596698-5ac4-41c5-8e79-9c88e137d259"
      },
      "execution_count": null,
      "outputs": [
        {
          "output_type": "execute_result",
          "data": {
            "text/plain": [
              "(3, 4)"
            ]
          },
          "metadata": {},
          "execution_count": 17
        }
      ]
    },
    {
      "cell_type": "code",
      "source": [
        "students_gpas[2]"
      ],
      "metadata": {
        "colab": {
          "base_uri": "https://localhost:8080/"
        },
        "id": "jEzXGfNsTtua",
        "outputId": "5bd95bcf-7879-4e56-c8fd-6defa2cba2d2"
      },
      "execution_count": null,
      "outputs": [
        {
          "output_type": "execute_result",
          "data": {
            "text/plain": [
              "array([3.2, 3.8, 4. , 4. ], dtype=float16)"
            ]
          },
          "metadata": {},
          "execution_count": 18
        }
      ]
    },
    {
      "cell_type": "code",
      "source": [
        "students_gpas[2][3]"
      ],
      "metadata": {
        "colab": {
          "base_uri": "https://localhost:8080/"
        },
        "id": "GQUNQk2BT14z",
        "outputId": "c1dc1e56-104b-4245-aea0-8fdf74ae52c8"
      },
      "execution_count": null,
      "outputs": [
        {
          "output_type": "execute_result",
          "data": {
            "text/plain": [
              "4.0"
            ]
          },
          "metadata": {},
          "execution_count": 19
        }
      ]
    },
    {
      "cell_type": "markdown",
      "source": [
        "##Study Log MultiDimensi"
      ],
      "metadata": {
        "id": "rLKuZKfBUh_W"
      }
    },
    {
      "cell_type": "code",
      "source": [
        "study_minutes = np.array([\n",
        "    study_minutes,\n",
        "    np.zeros(100, np.uint16)\n",
        "])\n",
        "study_minutes.shape"
      ],
      "metadata": {
        "colab": {
          "base_uri": "https://localhost:8080/"
        },
        "id": "Fy3sIUCQUuVa",
        "outputId": "324105d7-7048-4bb2-be0e-650fb3b9f740"
      },
      "execution_count": null,
      "outputs": [
        {
          "output_type": "stream",
          "name": "stderr",
          "text": [
            "<ipython-input-30-f74f7a511bca>:1: VisibleDeprecationWarning: Creating an ndarray from ragged nested sequences (which is a list-or-tuple of lists-or-tuples-or ndarrays with different lengths or shapes) is deprecated. If you meant to do this, you must specify 'dtype=object' when creating the ndarray.\n",
            "  study_minutes = np.array([\n"
          ]
        },
        {
          "output_type": "execute_result",
          "data": {
            "text/plain": [
              "(2,)"
            ]
          },
          "metadata": {},
          "execution_count": 30
        }
      ]
    },
    {
      "cell_type": "code",
      "source": [
        "study_minutes[1][0] = 60\n",
        "study_minutes"
      ],
      "metadata": {
        "colab": {
          "base_uri": "https://localhost:8080/"
        },
        "id": "xfXO9qMTVS-C",
        "outputId": "b2ebeeb4-883a-4650-f75d-1136114c44e1"
      },
      "execution_count": null,
      "outputs": [
        {
          "output_type": "execute_result",
          "data": {
            "text/plain": [
              "array([array([  0,   0,   0,   0,   0,   0,   0,   0,   0,   0,   0,   0,   0,\n",
              "                0,   0,   0,   0,   0,   0,   0,   0,   0,   0,   0,   0,   0,\n",
              "                0,   0,   0,   0,   0,   0,   0,   0,   0,   0,   0,   0,   0,\n",
              "                0,   0,   0,   0,   0,   0,   0,   0,   0,   0,   0,   0,   0,\n",
              "                0,   0,   0,   0,   0,   0,   0,   0,   0,   0,   0,   0,   0,\n",
              "                0,   0,   0,   0,   0,   0,   0,   0,   0,   0,   0,   0,   0,\n",
              "                0,   0,   0,   0,   0,   0,   0,   0,   0,   0,   0,   0,   0,\n",
              "                0,   0,   0,   0,   0,   0,   0,   0,   0,  60,   0,   0,   0,\n",
              "                0,   0,   0,   0,   0,   0,   0,   0,   0,   0,   0,   0,   0,\n",
              "                0,   0,   0,   0,   0,   0,   0,   0,   0,   0,   0,   0,   0,\n",
              "                0,   0,   0,   0,   0,   0,   0,   0,   0,   0,   0,   0,   0,\n",
              "                0,   0,   0,   0,   0,   0,   0,   0,   0,   0,   0,   0,   0,\n",
              "                0,   0,   0,   0,   0,   0,   0,   0,   0,   0,   0,   0,   0,\n",
              "                0,   0,   0,   0,   0,   0,   0,   0,   0,   0,   0,   0,   0,\n",
              "                0,   0,   0,   0,   0,   0,   0,   0,   0,   0,   0,   0,   0,\n",
              "                0,   0,   0,   0,   0,  99,  45,  70, 162, 146,  70, 177, 176,\n",
              "               47, 148, 123,  67,  90, 122,  34, 160, 135, 102,  62,  61,  85,\n",
              "               52, 153, 128,  89,  37, 109,  60, 128,  57, 160,  67, 144,  97,\n",
              "              150, 148,  32, 155, 116, 137,  49,  70, 159, 159,  84, 114,  93,\n",
              "              110,  81, 122, 103,  53,  52, 147,  75,  93,  45,  46, 177,  91,\n",
              "               70,  69,  46, 150,  86, 170, 174, 143,  88,  71, 132,  67, 157,\n",
              "              118,  91, 158, 178, 176,  37, 155,  45,  66,  60,  35, 154,  75,\n",
              "               53,  33,  80, 126,  76, 113, 148, 163,  57,  83, 145, 148, 167,\n",
              "              129], dtype=uint16)                                             ,\n",
              "       array([60,  0,  0,  0,  0,  0,  0,  0,  0,  0,  0,  0,  0,  0,  0,  0,  0,\n",
              "               0,  0,  0,  0,  0,  0,  0,  0,  0,  0,  0,  0,  0,  0,  0,  0,  0,\n",
              "               0,  0,  0,  0,  0,  0,  0,  0,  0,  0,  0,  0,  0,  0,  0,  0,  0,\n",
              "               0,  0,  0,  0,  0,  0,  0,  0,  0,  0,  0,  0,  0,  0,  0,  0,  0,\n",
              "               0,  0,  0,  0,  0,  0,  0,  0,  0,  0,  0,  0,  0,  0,  0,  0,  0,\n",
              "               0,  0,  0,  0,  0,  0,  0,  0,  0,  0,  0,  0,  0,  0,  0],\n",
              "             dtype=uint16)                                                       ],\n",
              "      dtype=object)"
            ]
          },
          "metadata": {},
          "execution_count": 31
        }
      ]
    },
    {
      "cell_type": "code",
      "source": [
        "rand = np.random.RandomState(46)\n",
        "fake_log = rand.randint(30, 180, size=100, dtype=np.uint16)\n",
        "fake_log"
      ],
      "metadata": {
        "colab": {
          "base_uri": "https://localhost:8080/"
        },
        "id": "iMeywVx5VsEW",
        "outputId": "6dcf533c-46ec-4800-83d2-82f6b58e6f16"
      },
      "execution_count": null,
      "outputs": [
        {
          "output_type": "execute_result",
          "data": {
            "text/plain": [
              "array([ 99,  45,  70, 162, 146,  70, 177, 176,  47, 148, 123,  67,  90,\n",
              "       122,  34, 160, 135, 102,  62,  61,  85,  52, 153, 128,  89,  37,\n",
              "       109,  60, 128,  57, 160,  67, 144,  97, 150, 148,  32, 155, 116,\n",
              "       137,  49,  70, 159, 159,  84, 114,  93, 110,  81, 122, 103,  53,\n",
              "        52, 147,  75,  93,  45,  46, 177,  91,  70,  69,  46, 150,  86,\n",
              "       170, 174, 143,  88,  71, 132,  67, 157, 118,  91, 158, 178, 176,\n",
              "        37, 155,  45,  66,  60,  35, 154,  75,  53,  33,  80, 126,  76,\n",
              "       113, 148, 163,  57,  83, 145, 148, 167, 129], dtype=uint16)"
            ]
          },
          "metadata": {},
          "execution_count": 32
        }
      ]
    },
    {
      "cell_type": "code",
      "source": [
        "[fake_log[1], fake_log[21]]"
      ],
      "metadata": {
        "colab": {
          "base_uri": "https://localhost:8080/"
        },
        "id": "qbodqLqRWXvG",
        "outputId": "117d01b8-a2f1-4d6e-a4a4-5181e54b5380"
      },
      "execution_count": null,
      "outputs": [
        {
          "output_type": "execute_result",
          "data": {
            "text/plain": [
              "[45, 52]"
            ]
          },
          "metadata": {},
          "execution_count": 33
        }
      ]
    },
    {
      "cell_type": "code",
      "source": [
        "fake_log[[1, 21]]"
      ],
      "metadata": {
        "colab": {
          "base_uri": "https://localhost:8080/"
        },
        "id": "dUxaTn98WuTN",
        "outputId": "0169a95c-364e-435a-8feb-9afc4cea2763"
      },
      "execution_count": null,
      "outputs": [
        {
          "output_type": "execute_result",
          "data": {
            "text/plain": [
              "array([45, 52], dtype=uint16)"
            ]
          },
          "metadata": {},
          "execution_count": 34
        }
      ]
    },
    {
      "cell_type": "code",
      "source": [
        "index = np.array([\n",
        "    [1, 21],\n",
        "    [1, 21]\n",
        "])\n",
        "fake_log[index] ###menjadi sebuah array baru"
      ],
      "metadata": {
        "colab": {
          "base_uri": "https://localhost:8080/"
        },
        "id": "2Wm7xJ9JW6GO",
        "outputId": "b7272655-2420-4025-e37d-d8890a6fb315"
      },
      "execution_count": null,
      "outputs": [
        {
          "output_type": "execute_result",
          "data": {
            "text/plain": [
              "array([[45, 52],\n",
              "       [45, 52]], dtype=uint16)"
            ]
          },
          "metadata": {},
          "execution_count": 35
        }
      ]
    },
    {
      "cell_type": "code",
      "source": [
        "study_minutes = np.append(study_minutes, [fake_log])\n",
        "study_minutes"
      ],
      "metadata": {
        "colab": {
          "base_uri": "https://localhost:8080/"
        },
        "id": "4AeSgMR1Xhzb",
        "outputId": "239a259f-ceb2-4009-f823-f9a6876ecc9a"
      },
      "execution_count": null,
      "outputs": [
        {
          "output_type": "execute_result",
          "data": {
            "text/plain": [
              "array([array([  0,   0,   0,   0,   0,   0,   0,   0,   0,   0,   0,   0,   0,\n",
              "                0,   0,   0,   0,   0,   0,   0,   0,   0,   0,   0,   0,   0,\n",
              "                0,   0,   0,   0,   0,   0,   0,   0,   0,   0,   0,   0,   0,\n",
              "                0,   0,   0,   0,   0,   0,   0,   0,   0,   0,   0,   0,   0,\n",
              "                0,   0,   0,   0,   0,   0,   0,   0,   0,   0,   0,   0,   0,\n",
              "                0,   0,   0,   0,   0,   0,   0,   0,   0,   0,   0,   0,   0,\n",
              "                0,   0,   0,   0,   0,   0,   0,   0,   0,   0,   0,   0,   0,\n",
              "                0,   0,   0,   0,   0,   0,   0,   0,   0,  60,   0,   0,   0,\n",
              "                0,   0,   0,   0,   0,   0,   0,   0,   0,   0,   0,   0,   0,\n",
              "                0,   0,   0,   0,   0,   0,   0,   0,   0,   0,   0,   0,   0,\n",
              "                0,   0,   0,   0,   0,   0,   0,   0,   0,   0,   0,   0,   0,\n",
              "                0,   0,   0,   0,   0,   0,   0,   0,   0,   0,   0,   0,   0,\n",
              "                0,   0,   0,   0,   0,   0,   0,   0,   0,   0,   0,   0,   0,\n",
              "                0,   0,   0,   0,   0,   0,   0,   0,   0,   0,   0,   0,   0,\n",
              "                0,   0,   0,   0,   0,   0,   0,   0,   0,   0,   0,   0,   0,\n",
              "                0,   0,   0,   0,   0,  99,  45,  70, 162, 146,  70, 177, 176,\n",
              "               47, 148, 123,  67,  90, 122,  34, 160, 135, 102,  62,  61,  85,\n",
              "               52, 153, 128,  89,  37, 109,  60, 128,  57, 160,  67, 144,  97,\n",
              "              150, 148,  32, 155, 116, 137,  49,  70, 159, 159,  84, 114,  93,\n",
              "              110,  81, 122, 103,  53,  52, 147,  75,  93,  45,  46, 177,  91,\n",
              "               70,  69,  46, 150,  86, 170, 174, 143,  88,  71, 132,  67, 157,\n",
              "              118,  91, 158, 178, 176,  37, 155,  45,  66,  60,  35, 154,  75,\n",
              "               53,  33,  80, 126,  76, 113, 148, 163,  57,  83, 145, 148, 167,\n",
              "              129], dtype=uint16)                                             ,\n",
              "       array([60,  0,  0,  0,  0,  0,  0,  0,  0,  0,  0,  0,  0,  0,  0,  0,  0,\n",
              "               0,  0,  0,  0,  0,  0,  0,  0,  0,  0,  0,  0,  0,  0,  0,  0,  0,\n",
              "               0,  0,  0,  0,  0,  0,  0,  0,  0,  0,  0,  0,  0,  0,  0,  0,  0,\n",
              "               0,  0,  0,  0,  0,  0,  0,  0,  0,  0,  0,  0,  0,  0,  0,  0,  0,\n",
              "               0,  0,  0,  0,  0,  0,  0,  0,  0,  0,  0,  0,  0,  0,  0,  0,  0,\n",
              "               0,  0,  0,  0,  0,  0,  0,  0,  0,  0,  0,  0,  0,  0,  0],\n",
              "             dtype=uint16)                                                       ,\n",
              "       99, 45, 70, 162, 146, 70, 177, 176, 47, 148, 123, 67, 90, 122, 34,\n",
              "       160, 135, 102, 62, 61, 85, 52, 153, 128, 89, 37, 109, 60, 128, 57,\n",
              "       160, 67, 144, 97, 150, 148, 32, 155, 116, 137, 49, 70, 159, 159,\n",
              "       84, 114, 93, 110, 81, 122, 103, 53, 52, 147, 75, 93, 45, 46, 177,\n",
              "       91, 70, 69, 46, 150, 86, 170, 174, 143, 88, 71, 132, 67, 157, 118,\n",
              "       91, 158, 178, 176, 37, 155, 45, 66, 60, 35, 154, 75, 53, 33, 80,\n",
              "       126, 76, 113, 148, 163, 57, 83, 145, 148, 167, 129], dtype=object)"
            ]
          },
          "metadata": {},
          "execution_count": 36
        }
      ]
    },
    {
      "cell_type": "markdown",
      "source": [
        "Filter Array dengan Kondisi\n",
        "\n",
        "mencari durasi belajar dibawah 1 jam"
      ],
      "metadata": {
        "id": "HN5SCFItgVeF"
      }
    },
    {
      "cell_type": "code",
      "source": [
        "fake_log < 60\n",
        "fake_log[fake_log < 60] #hanya nilai dibawah 60 yang dipanggil"
      ],
      "metadata": {
        "colab": {
          "base_uri": "https://localhost:8080/"
        },
        "id": "dHZrlQxYgc71",
        "outputId": "2ab49924-b36b-4a1f-bb74-13b16493ce52"
      },
      "execution_count": null,
      "outputs": [
        {
          "output_type": "execute_result",
          "data": {
            "text/plain": [
              "array([45, 47, 34, 52, 37, 57, 32, 49, 53, 52, 45, 46, 46, 37, 45, 35, 53,\n",
              "       33, 57], dtype=uint16)"
            ]
          },
          "metadata": {},
          "execution_count": 50
        }
      ]
    },
    {
      "cell_type": "code",
      "source": [
        "#mendapatkan nilai dibawah 60 menit\n",
        "results = []\n",
        "for value in fake_log:\n",
        "  if value <60:\n",
        "    results.append(value)\n",
        "\n",
        "np.array(results)"
      ],
      "metadata": {
        "colab": {
          "base_uri": "https://localhost:8080/"
        },
        "id": "osMCDjh2hEe1",
        "outputId": "d173de97-1db3-4844-8698-a360aeb0778a"
      },
      "execution_count": null,
      "outputs": [
        {
          "output_type": "execute_result",
          "data": {
            "text/plain": [
              "array([45, 47, 34, 52, 37, 57, 32, 49, 53, 52, 45, 46, 46, 37, 45, 35, 53,\n",
              "       33, 57], dtype=uint16)"
            ]
          },
          "metadata": {},
          "execution_count": 51
        }
      ]
    },
    {
      "cell_type": "code",
      "source": [
        "study_minutes = np.zeros(100, np.uint16)\n",
        "study_minutes = np.append(study_minutes, [fake_log])\n",
        "study_minutes"
      ],
      "metadata": {
        "colab": {
          "base_uri": "https://localhost:8080/"
        },
        "id": "F_4W1zEfhibp",
        "outputId": "6a9c9b16-f14f-46e8-9d89-62b410b7dd99"
      },
      "execution_count": null,
      "outputs": [
        {
          "output_type": "execute_result",
          "data": {
            "text/plain": [
              "array([  0,   0,   0,   0,   0,   0,   0,   0,   0,   0,   0,   0,   0,\n",
              "         0,   0,   0,   0,   0,   0,   0,   0,   0,   0,   0,   0,   0,\n",
              "         0,   0,   0,   0,   0,   0,   0,   0,   0,   0,   0,   0,   0,\n",
              "         0,   0,   0,   0,   0,   0,   0,   0,   0,   0,   0,   0,   0,\n",
              "         0,   0,   0,   0,   0,   0,   0,   0,   0,   0,   0,   0,   0,\n",
              "         0,   0,   0,   0,   0,   0,   0,   0,   0,   0,   0,   0,   0,\n",
              "         0,   0,   0,   0,   0,   0,   0,   0,   0,   0,   0,   0,   0,\n",
              "         0,   0,   0,   0,   0,   0,   0,   0,   0,  99,  45,  70, 162,\n",
              "       146,  70, 177, 176,  47, 148, 123,  67,  90, 122,  34, 160, 135,\n",
              "       102,  62,  61,  85,  52, 153, 128,  89,  37, 109,  60, 128,  57,\n",
              "       160,  67, 144,  97, 150, 148,  32, 155, 116, 137,  49,  70, 159,\n",
              "       159,  84, 114,  93, 110,  81, 122, 103,  53,  52, 147,  75,  93,\n",
              "        45,  46, 177,  91,  70,  69,  46, 150,  86, 170, 174, 143,  88,\n",
              "        71, 132,  67, 157, 118,  91, 158, 178, 176,  37, 155,  45,  66,\n",
              "        60,  35, 154,  75,  53,  33,  80, 126,  76, 113, 148, 163,  57,\n",
              "        83, 145, 148, 167, 129], dtype=uint16)"
            ]
          },
          "metadata": {},
          "execution_count": 52
        }
      ]
    },
    {
      "cell_type": "code",
      "source": [
        "#filter nilai yang dibawah 60 dan lebih besar dari 0\n",
        "study_minutes[study_minutes < 60]\n",
        "study_minutes[(study_minutes < 60) & (study_minutes > 0)]"
      ],
      "metadata": {
        "colab": {
          "base_uri": "https://localhost:8080/"
        },
        "id": "xTldcLtLh-jC",
        "outputId": "5943b69b-464e-4f08-e6bb-3db3c5dc3832"
      },
      "execution_count": null,
      "outputs": [
        {
          "output_type": "execute_result",
          "data": {
            "text/plain": [
              "array([45, 47, 34, 52, 37, 57, 32, 49, 53, 52, 45, 46, 46, 37, 45, 35, 53,\n",
              "       33, 57], dtype=uint16)"
            ]
          },
          "metadata": {},
          "execution_count": 54
        }
      ]
    },
    {
      "cell_type": "code",
      "source": [
        "#membuat array menjadi 7 index dengan terdiri dari 6 elemen\n",
        "practice = np.arange(42)\n",
        "practice.shape = (7, 6)\n",
        "practice"
      ],
      "metadata": {
        "colab": {
          "base_uri": "https://localhost:8080/"
        },
        "id": "SxV6hOtDYYYk",
        "outputId": "0d484f51-b5f7-4118-b381-27dc8352c01a"
      },
      "execution_count": null,
      "outputs": [
        {
          "output_type": "execute_result",
          "data": {
            "text/plain": [
              "array([[ 0,  1,  2,  3,  4,  5],\n",
              "       [ 6,  7,  8,  9, 10, 11],\n",
              "       [12, 13, 14, 15, 16, 17],\n",
              "       [18, 19, 20, 21, 22, 23],\n",
              "       [24, 25, 26, 27, 28, 29],\n",
              "       [30, 31, 32, 33, 34, 35],\n",
              "       [36, 37, 38, 39, 40, 41]])"
            ]
          },
          "metadata": {},
          "execution_count": 38
        }
      ]
    },
    {
      "cell_type": "code",
      "source": [
        "practice[2, 1]"
      ],
      "metadata": {
        "colab": {
          "base_uri": "https://localhost:8080/"
        },
        "id": "Mj3XK2xjZIan",
        "outputId": "6ab11563-7108-45d5-9806-c16fd6e349a8"
      },
      "execution_count": null,
      "outputs": [
        {
          "output_type": "execute_result",
          "data": {
            "text/plain": [
              "13"
            ]
          },
          "metadata": {},
          "execution_count": 39
        }
      ]
    },
    {
      "cell_type": "code",
      "source": [
        "#mendapatkan/memotong array dari index array ke 2 hingga seterusnya\n",
        "practice[2:5]"
      ],
      "metadata": {
        "colab": {
          "base_uri": "https://localhost:8080/"
        },
        "id": "yWpsaFQeZPuc",
        "outputId": "ec586f43-771f-4af4-b3b0-79f03ea02244"
      },
      "execution_count": null,
      "outputs": [
        {
          "output_type": "execute_result",
          "data": {
            "text/plain": [
              "array([[12, 13, 14, 15, 16, 17],\n",
              "       [18, 19, 20, 21, 22, 23],\n",
              "       [24, 25, 26, 27, 28, 29]])"
            ]
          },
          "metadata": {},
          "execution_count": 40
        }
      ]
    },
    {
      "cell_type": "code",
      "source": [
        "#misal ingin mendapatkan hanya elemen ke-3\n",
        "practice[1:5, 3]"
      ],
      "metadata": {
        "colab": {
          "base_uri": "https://localhost:8080/"
        },
        "id": "UYTzy3vJZqzn",
        "outputId": "0cac9ec4-c001-4823-ec07-bdf6ffcb4d98"
      },
      "execution_count": null,
      "outputs": [
        {
          "output_type": "execute_result",
          "data": {
            "text/plain": [
              "array([ 9, 15, 21, 27])"
            ]
          },
          "metadata": {},
          "execution_count": 41
        }
      ]
    },
    {
      "cell_type": "code",
      "source": [
        "#atau ingin mendapatkan elemen mulai dari ke-3 hingga seterusnya\n",
        "practice[2:5, 3:]"
      ],
      "metadata": {
        "colab": {
          "base_uri": "https://localhost:8080/"
        },
        "id": "PlLDfwsWZ_WG",
        "outputId": "91019f02-04ec-429e-fc7a-49bfd3468c78"
      },
      "execution_count": null,
      "outputs": [
        {
          "output_type": "execute_result",
          "data": {
            "text/plain": [
              "array([[15, 16, 17],\n",
              "       [21, 22, 23],\n",
              "       [27, 28, 29]])"
            ]
          },
          "metadata": {},
          "execution_count": 42
        }
      ]
    },
    {
      "cell_type": "code",
      "source": [
        "#jika melakukan copy variabel atau list di python\n",
        "practice_list = [1, 2, 3]\n",
        "practice_list_copy = practice_list[:]\n",
        "practice_list, practice_list_copy\n",
        "practice_list_copy[0] =12345\n",
        "practice_list, practice_list_copy"
      ],
      "metadata": {
        "colab": {
          "base_uri": "https://localhost:8080/"
        },
        "id": "i3d97uM-azZS",
        "outputId": "135282a2-fce6-49ae-c64e-37160b62e36b"
      },
      "execution_count": null,
      "outputs": [
        {
          "output_type": "execute_result",
          "data": {
            "text/plain": [
              "([1, 2, 3], [12345, 2, 3])"
            ]
          },
          "metadata": {},
          "execution_count": 44
        }
      ]
    },
    {
      "cell_type": "code",
      "source": [
        "not_copied = practice[:]\n",
        "not_copied[0, 0] = 12345\n",
        "practice, not_copied"
      ],
      "metadata": {
        "colab": {
          "base_uri": "https://localhost:8080/"
        },
        "id": "qR7AhIZFbdW9",
        "outputId": "eb5b0a2f-07df-403e-fb00-a5b993d301ee"
      },
      "execution_count": null,
      "outputs": [
        {
          "output_type": "execute_result",
          "data": {
            "text/plain": [
              "(array([[12345,     1,     2,     3,     4,     5],\n",
              "        [    6,     7,     8,     9,    10,    11],\n",
              "        [   12,    13,    14,    15,    16,    17],\n",
              "        [   18,    19,    20,    21,    22,    23],\n",
              "        [   24,    25,    26,    27,    28,    29],\n",
              "        [   30,    31,    32,    33,    34,    35],\n",
              "        [   36,    37,    38,    39,    40,    41]]),\n",
              " array([[12345,     1,     2,     3,     4,     5],\n",
              "        [    6,     7,     8,     9,    10,    11],\n",
              "        [   12,    13,    14,    15,    16,    17],\n",
              "        [   18,    19,    20,    21,    22,    23],\n",
              "        [   24,    25,    26,    27,    28,    29],\n",
              "        [   30,    31,    32,    33,    34,    35],\n",
              "        [   36,    37,    38,    39,    40,    41]]))"
            ]
          },
          "metadata": {},
          "execution_count": 45
        }
      ]
    },
    {
      "cell_type": "markdown",
      "source": [
        "##Aljabar Linear"
      ],
      "metadata": {
        "id": "_oEtdZ21eH4C"
      }
    },
    {
      "cell_type": "code",
      "source": [
        "orders = np.array([\n",
        "    [2, 0, 0, 0],\n",
        "    [1, 0, 2, 4],\n",
        "    [1, 2, 1, 0],\n",
        "    [4, 6, 0, 2]\n",
        "])\n",
        "totals = np.array([20000, 32000, 20000, 61000])\n",
        "prices = np.linalg.solve(orders, totals) #linalg untuk menghitung dari aljabar linear\n",
        "prices"
      ],
      "metadata": {
        "colab": {
          "base_uri": "https://localhost:8080/"
        },
        "id": "b8cE84sKeLVc",
        "outputId": "3e0cde97-47cb-4142-d13f-3556d065f5f7"
      },
      "execution_count": null,
      "outputs": [
        {
          "output_type": "execute_result",
          "data": {
            "text/plain": [
              "array([10000.,  2500.,  5000.,  3000.])"
            ]
          },
          "metadata": {},
          "execution_count": 47
        }
      ]
    },
    {
      "cell_type": "code",
      "source": [
        "orders @ prices"
      ],
      "metadata": {
        "colab": {
          "base_uri": "https://localhost:8080/"
        },
        "id": "4_Os54GQfJzP",
        "outputId": "e3da5cab-8332-4b7b-9153-e88bd4a2b4c0"
      },
      "execution_count": null,
      "outputs": [
        {
          "output_type": "execute_result",
          "data": {
            "text/plain": [
              "array([20000., 32000., 20000., 61000.])"
            ]
          },
          "metadata": {},
          "execution_count": 48
        }
      ]
    },
    {
      "cell_type": "markdown",
      "source": [
        "##Fungsi Universal"
      ],
      "metadata": {
        "id": "ycQf-liVjHtn"
      }
    },
    {
      "cell_type": "code",
      "source": [
        "a, b = np.split(np.arange(1, 11), 2)\n",
        "a, b"
      ],
      "metadata": {
        "colab": {
          "base_uri": "https://localhost:8080/"
        },
        "id": "j4uGSSmPjKSD",
        "outputId": "e9883c0f-bd50-4e7d-cbbc-ad999508cb25"
      },
      "execution_count": null,
      "outputs": [
        {
          "output_type": "execute_result",
          "data": {
            "text/plain": [
              "(array([1, 2, 3, 4, 5]), array([ 6,  7,  8,  9, 10]))"
            ]
          },
          "metadata": {},
          "execution_count": 55
        }
      ]
    },
    {
      "cell_type": "code",
      "source": [
        "a + b"
      ],
      "metadata": {
        "colab": {
          "base_uri": "https://localhost:8080/"
        },
        "id": "FEL03GYPjVzE",
        "outputId": "2809e5eb-eaa2-4bd8-af52-aba448f409ca"
      },
      "execution_count": null,
      "outputs": [
        {
          "output_type": "execute_result",
          "data": {
            "text/plain": [
              "array([ 7,  9, 11, 13, 15])"
            ]
          },
          "metadata": {},
          "execution_count": 56
        }
      ]
    },
    {
      "cell_type": "code",
      "source": [
        "a * b"
      ],
      "metadata": {
        "colab": {
          "base_uri": "https://localhost:8080/"
        },
        "id": "39WNg8Yxjfct",
        "outputId": "b8bfc284-679f-419c-dfcf-c2bfdc43d63b"
      },
      "execution_count": null,
      "outputs": [
        {
          "output_type": "execute_result",
          "data": {
            "text/plain": [
              "array([ 6, 14, 24, 36, 50])"
            ]
          },
          "metadata": {},
          "execution_count": 57
        }
      ]
    },
    {
      "cell_type": "code",
      "source": [
        "a - b"
      ],
      "metadata": {
        "colab": {
          "base_uri": "https://localhost:8080/"
        },
        "id": "eEzh6uGGjjBd",
        "outputId": "fcc8d150-8d93-484e-9de5-05711bf59b5b"
      },
      "execution_count": null,
      "outputs": [
        {
          "output_type": "execute_result",
          "data": {
            "text/plain": [
              "array([-5, -5, -5, -5, -5])"
            ]
          },
          "metadata": {},
          "execution_count": 58
        }
      ]
    },
    {
      "cell_type": "code",
      "source": [
        "b - a"
      ],
      "metadata": {
        "colab": {
          "base_uri": "https://localhost:8080/"
        },
        "id": "gxCaIauLjr1e",
        "outputId": "9ca85a7f-c0a0-4388-af83-03099c536ff4"
      },
      "execution_count": null,
      "outputs": [
        {
          "output_type": "execute_result",
          "data": {
            "text/plain": [
              "array([5, 5, 5, 5, 5])"
            ]
          },
          "metadata": {},
          "execution_count": 59
        }
      ]
    },
    {
      "cell_type": "code",
      "source": [
        "a + 3"
      ],
      "metadata": {
        "colab": {
          "base_uri": "https://localhost:8080/"
        },
        "id": "W_E81ovvjuUq",
        "outputId": "3c289679-ad61-4979-ba1c-9846e673190a"
      },
      "execution_count": null,
      "outputs": [
        {
          "output_type": "execute_result",
          "data": {
            "text/plain": [
              "array([4, 5, 6, 7, 8])"
            ]
          },
          "metadata": {},
          "execution_count": 60
        }
      ]
    },
    {
      "cell_type": "code",
      "source": [
        "a + np.repeat(3, 5)"
      ],
      "metadata": {
        "colab": {
          "base_uri": "https://localhost:8080/"
        },
        "id": "ZmIiQBrzj2Xv",
        "outputId": "159bb68d-7e99-4938-af09-587063d13bb7"
      },
      "execution_count": null,
      "outputs": [
        {
          "output_type": "execute_result",
          "data": {
            "text/plain": [
              "array([4, 5, 6, 7, 8])"
            ]
          },
          "metadata": {},
          "execution_count": 61
        }
      ]
    },
    {
      "cell_type": "code",
      "source": [
        "x1 = np.arange(9.0).reshape((3, 3))\n",
        "x2 =  np.arange(3.0)\n",
        "x1, x1"
      ],
      "metadata": {
        "colab": {
          "base_uri": "https://localhost:8080/"
        },
        "id": "0NETaj8tkQU3",
        "outputId": "87401b25-2369-4574-e7c9-9741e668c9c5"
      },
      "execution_count": null,
      "outputs": [
        {
          "output_type": "execute_result",
          "data": {
            "text/plain": [
              "(array([[0., 1., 2.],\n",
              "        [3., 4., 5.],\n",
              "        [6., 7., 8.]]),\n",
              " array([[0., 1., 2.],\n",
              "        [3., 4., 5.],\n",
              "        [6., 7., 8.]]))"
            ]
          },
          "metadata": {},
          "execution_count": 62
        }
      ]
    },
    {
      "cell_type": "code",
      "source": [
        "np.add(x1, x2)"
      ],
      "metadata": {
        "colab": {
          "base_uri": "https://localhost:8080/"
        },
        "id": "TXEi0er-khhW",
        "outputId": "5b4bc2b0-d61e-45cd-942e-40a43861b306"
      },
      "execution_count": null,
      "outputs": [
        {
          "output_type": "execute_result",
          "data": {
            "text/plain": [
              "array([[ 0.,  2.,  4.],\n",
              "       [ 3.,  5.,  7.],\n",
              "       [ 6.,  8., 10.]])"
            ]
          },
          "metadata": {},
          "execution_count": 63
        }
      ]
    },
    {
      "cell_type": "markdown",
      "source": [
        "##Operasi Matrix Lainnya"
      ],
      "metadata": {
        "id": "mopxVcmQlXfh"
      }
    },
    {
      "cell_type": "code",
      "source": [
        "study_less = study_minutes[(study_minutes < 60) & (study_minutes > 0)]\n",
        "print(study_less)\n",
        "np.add.reduce(study_less)"
      ],
      "metadata": {
        "colab": {
          "base_uri": "https://localhost:8080/"
        },
        "id": "azgz5QHYlcDT",
        "outputId": "b71a627d-4a9f-42cc-c818-3ba3b464385c"
      },
      "execution_count": null,
      "outputs": [
        {
          "output_type": "stream",
          "name": "stdout",
          "text": [
            "[45 47 34 52 37 57 32 49 53 52 45 46 46 37 45 35 53 33 57]\n"
          ]
        },
        {
          "output_type": "execute_result",
          "data": {
            "text/plain": [
              "855"
            ]
          },
          "metadata": {},
          "execution_count": 65
        }
      ]
    },
    {
      "cell_type": "code",
      "source": [
        "np.sum(study_less) #mengtotal semua data yg ada di study less"
      ],
      "metadata": {
        "colab": {
          "base_uri": "https://localhost:8080/"
        },
        "id": "IfWSNueul-iT",
        "outputId": "7640d626-87f8-489f-ef88-223374af3be9"
      },
      "execution_count": null,
      "outputs": [
        {
          "output_type": "execute_result",
          "data": {
            "text/plain": [
              "855"
            ]
          },
          "metadata": {},
          "execution_count": 66
        }
      ]
    },
    {
      "cell_type": "code",
      "source": [
        "np.sum(study_minutes)"
      ],
      "metadata": {
        "colab": {
          "base_uri": "https://localhost:8080/"
        },
        "id": "3vEiwioumDWB",
        "outputId": "005d4f0b-229d-478d-85e7-28019ba0db4b"
      },
      "execution_count": null,
      "outputs": [
        {
          "output_type": "execute_result",
          "data": {
            "text/plain": [
              "10415"
            ]
          },
          "metadata": {},
          "execution_count": 67
        }
      ]
    },
    {
      "cell_type": "markdown",
      "source": [
        "##MatPlotLib"
      ],
      "metadata": {
        "id": "vYzGf97wnDXg"
      }
    },
    {
      "cell_type": "code",
      "source": [
        "import matplotlib.pyplot as plt"
      ],
      "metadata": {
        "id": "fDeeaGtZnaWr"
      },
      "execution_count": null,
      "outputs": []
    },
    {
      "cell_type": "code",
      "source": [
        "plt.hist(study_minutes[study_minutes > 0])\n",
        "plt.plot()"
      ],
      "metadata": {
        "colab": {
          "base_uri": "https://localhost:8080/",
          "height": 447
        },
        "id": "tU58YAcvnhgl",
        "outputId": "e0c7e8b7-4d6a-416f-be08-a4e60f6d09a6"
      },
      "execution_count": null,
      "outputs": [
        {
          "output_type": "execute_result",
          "data": {
            "text/plain": [
              "[]"
            ]
          },
          "metadata": {},
          "execution_count": 71
        },
        {
          "output_type": "display_data",
          "data": {
            "text/plain": [
              "<Figure size 640x480 with 1 Axes>"
            ],
            "image/png": "[encoded data removed]"
          },
          "metadata": {}
        }
      ]
    }
  ]
}